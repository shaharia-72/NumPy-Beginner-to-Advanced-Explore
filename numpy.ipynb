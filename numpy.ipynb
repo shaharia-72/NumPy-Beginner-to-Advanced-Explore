{
  "nbformat": 4,
  "nbformat_minor": 0,
  "metadata": {
    "colab": {
      "provenance": [],
      "collapsed_sections": [
        "z83GXBbvuf0i",
        "pkEPRY67uLQ1",
        "AF4Vf9qq85Wi",
        "JSAoVq-s9C74",
        "n14GXiL7-OPy",
        "PpwWJxNd-tJU",
        "MyEBrmkm_yXn",
        "MIOnFu99AVLB",
        "7o9ez1KPvUeX",
        "AC31ELMrwCQe",
        "4GC6Z57KzKzB",
        "nsZ5ZWmQ1ASF",
        "SPknJGwc1Wp2",
        "ynCKmc5d2x1J",
        "eZ9Du01i7dRy"
      ],
      "authorship_tag": "ABX9TyMSihNBTL7MLC/g8FGX19d1",
      "include_colab_link": true
    },
    "kernelspec": {
      "name": "python3",
      "display_name": "Python 3"
    },
    "language_info": {
      "name": "python"
    }
  },
  "cells": [
    {
      "cell_type": "markdown",
      "metadata": {
        "id": "view-in-github",
        "colab_type": "text"
      },
      "source": [
        "<a href=\"https://colab.research.google.com/github/shaharia-72/NumPy-Beginner-to-Advanced-Explore/blob/main/numpy.ipynb\" target=\"_parent\"><img src=\"https://colab.research.google.com/assets/colab-badge.svg\" alt=\"Open In Colab\"/></a>"
      ]
    },
    {
      "cell_type": "markdown",
      "source": [
        "# **What problem solved by NumPy?**\n"
      ],
      "metadata": {
        "id": "z83GXBbvuf0i"
      }
    },
    {
      "cell_type": "markdown",
      "source": [
        "**Before NumPy, programmers used Python lists. Although lists have many advantages, when handling large datasets or performing numerical computations, they face several limitations.**\n",
        "\n",
        "suppose we want to calculate the average temperature of a country.\n",
        "Let’s say Country A has 5 provinces, and today’s temperatures are recorded as: temperatures = [31.5, 28.9, 31.8, 30.2, 29.6]"
      ],
      "metadata": {
        "id": "L35wbtrqv16B"
      }
    },
    {
      "cell_type": "code",
      "source": [
        "temperatures = [31.5, 28.9, 31.8, 30.2, 29.6]\n",
        "total = 0\n",
        "\n",
        "for temp in temperatures:\n",
        "  total += temp\n",
        "\n",
        "average = total/len(temperatures)\n",
        "\n",
        "print(f\"average temperatures is: {average}\")"
      ],
      "metadata": {
        "colab": {
          "base_uri": "https://localhost:8080/"
        },
        "id": "GodTBrRcu0o4",
        "outputId": "1f1bd400-204e-4dc5-a31e-6e22c15ee76d"
      },
      "execution_count": null,
      "outputs": [
        {
          "output_type": "stream",
          "name": "stdout",
          "text": [
            "average temperatures is: 30.4\n"
          ]
        }
      ]
    },
    {
      "cell_type": "markdown",
      "source": [
        "But now i want to find out average of every single zone and also last 20 days\n",
        "then we can face some problem\n",
        "\n",
        "1. **Slow Performance:**\n",
        "Python lists are not optimized for heavy mathematical operations. If i add or multiply elements in large lists, it becomes very slow.\n",
        "\n",
        "2. **Memory Inefficiency**\n",
        "Python lists store references (pointers) to objects, so they take much more memory compared to a compact numeric representation.\n",
        "\n",
        "3. **No Vectorized Operations:**\n",
        " cannot directly do list1 + list2 to add two lists element-wise. need loops or list comprehensions, which are slow.\n",
        "\n",
        "4. **Limited Mathematical Functions:**\n",
        "Python lists don’t provide built-in linear algebra, statistics, random sampling, or matrix operations. You’d have to implement them manually.\n"
      ],
      "metadata": {
        "id": "eg9Mqncmxu8t"
      }
    },
    {
      "cell_type": "code",
      "source": [
        "import numpy as np\n",
        "np_array = np.array(temperatures)\n",
        "print(np_array)\n",
        "# first way\n",
        "average = np.mean(np_array)\n",
        "print(average)\n",
        "\n",
        "# 2nd way\n",
        "print(np.mean(np.array(temperatures)))"
      ],
      "metadata": {
        "colab": {
          "base_uri": "https://localhost:8080/"
        },
        "id": "PqiuQTUp4k32",
        "outputId": "fd9488d9-26e3-47e3-bb13-04fc063c2150"
      },
      "execution_count": null,
      "outputs": [
        {
          "output_type": "stream",
          "name": "stdout",
          "text": [
            "[31.5 28.9 31.8 30.2 29.6]\n",
            "30.4\n",
            "30.4\n"
          ]
        }
      ]
    },
    {
      "cell_type": "code",
      "source": [],
      "metadata": {
        "id": "2ExDQk4F4oqp"
      },
      "execution_count": null,
      "outputs": []
    },
    {
      "cell_type": "markdown",
      "source": [
        "**How NumPy solves these problem**\n",
        "\n",
        "1. **Fast numerical computations** using C under the hood. Operations like addition, multiplication, mean, dot product, etc., are much faster than plain Python lists.\n",
        "\n",
        "2. **Efficient memory** usage with ndarray (N-dimensional array). Stores data in a contiguous memory block, unlike lists.\n",
        "\n",
        "3. **Vectorization**: You can perform operations on entire arrays without writing explicit loops.\n",
        "\n",
        "4. **Rich functionality**: Provides linear algebra, Fourier transforms, statistics, random numbers, reshaping, broadcasting, etc."
      ],
      "metadata": {
        "id": "7LdtAhhJ0jz3"
      }
    },
    {
      "cell_type": "markdown",
      "source": [
        "# **Diving into NumPy**\n",
        " discusses NumPy data types controlled by\n",
        " dtype objects, which are the way NumPy stores and manages data."
      ],
      "metadata": {
        "id": "pkEPRY67uLQ1"
      }
    },
    {
      "cell_type": "markdown",
      "source": [
        "NumPy uses:\n",
        "1. Data science\n",
        "2. machine learning\n",
        "3. stock market and finance\n",
        "4. mediacl science\n",
        "5. detaction and preddection\n",
        "6. image processiong"
      ],
      "metadata": {
        "id": "5LGlGgE26KT_"
      }
    },
    {
      "cell_type": "markdown",
      "source": [
        "# **Array**"
      ],
      "metadata": {
        "id": "AF4Vf9qq85Wi"
      }
    },
    {
      "cell_type": "code",
      "source": [
        "# one dimantation array  (1D)\n",
        "import numpy as np\n",
        "arr_1d = np.array([10,20,30,50,60 ])\n",
        "print(arr_1d)"
      ],
      "metadata": {
        "colab": {
          "base_uri": "https://localhost:8080/"
        },
        "id": "TZKTavFO7Wov",
        "outputId": "a0bbdd29-9b84-4a6c-c28b-988e747a55f8"
      },
      "execution_count": null,
      "outputs": [
        {
          "output_type": "stream",
          "name": "stdout",
          "text": [
            "[10 20 30 50 60]\n"
          ]
        }
      ]
    },
    {
      "cell_type": "code",
      "source": [
        "# two dimantation array  (2D)\n",
        "import numpy as np\n",
        "arr_2d = np.array([[10,20,30],\n",
        "                  [40,60,70],\n",
        "                  [80,70,90]])\n",
        "print(arr_2d)"
      ],
      "metadata": {
        "colab": {
          "base_uri": "https://localhost:8080/"
        },
        "id": "GjW6sRSquS8u",
        "outputId": "301cfe34-82cb-4f4f-845d-3d472f2fdf2c"
      },
      "execution_count": null,
      "outputs": [
        {
          "output_type": "stream",
          "name": "stdout",
          "text": [
            "[[10 20 30]\n",
            " [40 60 70]\n",
            " [80 70 90]]\n"
          ]
        }
      ]
    },
    {
      "cell_type": "code",
      "source": [
        "# Multi dimantation array (3D, 5D, 4D) Metrix\n",
        "import numpy as np\n",
        "metrix = np.array([[20,30,60],\n",
        "                  [8,10,56]])\n",
        "print(metrix)"
      ],
      "metadata": {
        "colab": {
          "base_uri": "https://localhost:8080/"
        },
        "id": "5jmfGP7P1llv",
        "outputId": "93504c5f-f5cb-4239-8285-2f013aa454f2"
      },
      "execution_count": null,
      "outputs": [
        {
          "output_type": "stream",
          "name": "stdout",
          "text": [
            "[[20 30 60]\n",
            " [ 8 10 56]]\n"
          ]
        }
      ]
    },
    {
      "cell_type": "markdown",
      "source": [
        "# **Create NumPy array**"
      ],
      "metadata": {
        "id": "JSAoVq-s9C74"
      }
    },
    {
      "cell_type": "code",
      "source": [
        "# creating arrays from lists\n",
        "# np.array([list element 1, list element 2,....])\n",
        "\n",
        "import numpy as np\n",
        "list = [20,30,50]\n",
        "print(f\"list type {type(list)}\")\n",
        "arr = np.array(list)\n",
        "print(f\"numpy array: {arr}\")\n",
        "print(f\"numpy array type: {type(arr)}\")"
      ],
      "metadata": {
        "colab": {
          "base_uri": "https://localhost:8080/"
        },
        "id": "s6XgqAtmu2AT",
        "outputId": "4639aef0-8eca-4821-d933-b02f2b6abd4a"
      },
      "execution_count": null,
      "outputs": [
        {
          "output_type": "stream",
          "name": "stdout",
          "text": [
            "list type <class 'list'>\n",
            "numpy array: [20 30 50]\n",
            "numpy array type: <class 'numpy.ndarray'>\n"
          ]
        }
      ]
    },
    {
      "cell_type": "markdown",
      "source": [
        "# **Crearte NumPy Array with 0 value**"
      ],
      "metadata": {
        "id": "n14GXiL7-OPy"
      }
    },
    {
      "cell_type": "code",
      "source": [
        "import numpy as np\n",
        "# np.zero(shape)\n",
        "zero_array = np.zeros(5)\n",
        "print(f\"array with default value: {zero_array}\")"
      ],
      "metadata": {
        "colab": {
          "base_uri": "https://localhost:8080/"
        },
        "id": "DlkgoqBF-VYy",
        "outputId": "c6252cf5-a3e1-49a5-d053-fea9ec52d9d3"
      },
      "execution_count": null,
      "outputs": [
        {
          "output_type": "stream",
          "name": "stdout",
          "text": [
            "array with default value: [0. 0. 0. 0. 0.]\n"
          ]
        }
      ]
    },
    {
      "cell_type": "markdown",
      "source": [
        "# **Crearte NumPy Array with 1 value**"
      ],
      "metadata": {
        "id": "PpwWJxNd-tJU"
      }
    },
    {
      "cell_type": "code",
      "source": [
        "import numpy as np\n",
        "ons_array = np.ones((3,3))\n",
        "print(ons_array)"
      ],
      "metadata": {
        "colab": {
          "base_uri": "https://localhost:8080/"
        },
        "id": "yw7tVsul-szr",
        "outputId": "29fd8165-c617-41a9-8bc1-65f25ec83f7b"
      },
      "execution_count": null,
      "outputs": [
        {
          "output_type": "stream",
          "name": "stdout",
          "text": [
            "[[1. 1. 1.]\n",
            " [1. 1. 1.]\n",
            " [1. 1. 1.]]\n"
          ]
        }
      ]
    },
    {
      "cell_type": "markdown",
      "source": [
        "# **NumPy Array with custom value**"
      ],
      "metadata": {
        "id": "MyEBrmkm_yXn"
      }
    },
    {
      "cell_type": "code",
      "source": [
        "import numpy as np\n",
        "filted_array = np.full((2,3),2)\n",
        "print(filted_array)"
      ],
      "metadata": {
        "colab": {
          "base_uri": "https://localhost:8080/"
        },
        "id": "HaeDEk5__PFY",
        "outputId": "5ec2a70f-e3ee-4b0f-96d6-676c1a3a7a1b"
      },
      "execution_count": null,
      "outputs": [
        {
          "output_type": "stream",
          "name": "stdout",
          "text": [
            "[[2 2 2]\n",
            " [2 2 2]]\n"
          ]
        }
      ]
    },
    {
      "cell_type": "markdown",
      "source": [
        "# **Creating sequence of numbers in NumPy**"
      ],
      "metadata": {
        "id": "MIOnFu99AVLB"
      }
    },
    {
      "cell_type": "code",
      "source": [
        "# arange()\n",
        "# arange(start, stop, step)\n",
        "\n",
        "import numpy as np\n",
        "sequnce_arr = np.arange(1,10,2)\n",
        "print(sequnce_arr)\n"
      ],
      "metadata": {
        "colab": {
          "base_uri": "https://localhost:8080/"
        },
        "id": "I2dT9F1YAc0U",
        "outputId": "d1a6cdb8-4fd2-4494-fb30-87fc0e4bbc85"
      },
      "execution_count": null,
      "outputs": [
        {
          "output_type": "stream",
          "name": "stdout",
          "text": [
            "[1 3 5 7 9]\n"
          ]
        }
      ]
    },
    {
      "cell_type": "markdown",
      "source": [
        "# **Creating Identity metrix**"
      ],
      "metadata": {
        "id": "7o9ez1KPvUeX"
      }
    },
    {
      "cell_type": "code",
      "source": [
        "# eye(size)\n",
        "import numpy as np\n",
        "identity_metrix = np.eye(3)\n",
        "print(identity_metrix)"
      ],
      "metadata": {
        "colab": {
          "base_uri": "https://localhost:8080/"
        },
        "id": "WI5E-AiLvToh",
        "outputId": "3f65ec54-e4a5-42ef-d821-b3abd667c12e"
      },
      "execution_count": null,
      "outputs": [
        {
          "output_type": "stream",
          "name": "stdout",
          "text": [
            "[[1. 0. 0.]\n",
            " [0. 1. 0.]\n",
            " [0. 0. 1.]]\n"
          ]
        }
      ]
    },
    {
      "cell_type": "markdown",
      "source": [
        "# **NumPy array properties and mathematic operations**"
      ],
      "metadata": {
        "id": "czH_8bZJvy3g"
      }
    },
    {
      "cell_type": "markdown",
      "source": [
        "# **Shape, Size, Type Check**"
      ],
      "metadata": {
        "id": "AC31ELMrwCQe"
      }
    },
    {
      "cell_type": "code",
      "source": [
        "arr = np.array([[20,30,50],\n",
        "       [30,50,60]])\n",
        "\n",
        "arr2 = np.array([[[22,11,33],\n",
        "                 [44,55,66],\n",
        "                 [77,88,99]]])\n",
        "print(arr)\n",
        "print(\"\\n\")\n",
        "print(arr2)\n",
        "print(\"\\n\")\n",
        "\n",
        "print(f\"array shape: {np.shape(arr)}\")\n",
        "#  total number of elements in array\n",
        "print(f\"total number of elements: {np.size(arr)}\")\n",
        "# ndim ==> how much dimantions\n",
        "print(f\"array dimantions: {arr.ndim}\")\n",
        "print(f\"array dimantions: {arr2.ndim}\")\n",
        "# datatype of elements\n",
        "print(f\"element of datatype: {arr.dtype}\")"
      ],
      "metadata": {
        "colab": {
          "base_uri": "https://localhost:8080/"
        },
        "id": "4PDl26MrvyMB",
        "outputId": "27a93075-5e2a-4f92-aa1d-6698385bb886"
      },
      "execution_count": null,
      "outputs": [
        {
          "output_type": "stream",
          "name": "stdout",
          "text": [
            "[[20 30 50]\n",
            " [30 50 60]]\n",
            "\n",
            "\n",
            "[[[22 11 33]\n",
            "  [44 55 66]\n",
            "  [77 88 99]]]\n",
            "\n",
            "\n",
            "array shape: (2, 3)\n",
            "total number of elements: 6\n",
            "array dimantions: 2\n",
            "array dimantions: 3\n",
            "element of datatype: int64\n"
          ]
        }
      ]
    },
    {
      "cell_type": "markdown",
      "source": [
        "# **Change Data Type**"
      ],
      "metadata": {
        "id": "4GC6Z57KzKzB"
      }
    },
    {
      "cell_type": "code",
      "source": [
        "# astype(convert-type) int, float,\n",
        "\n",
        "import numpy as np\n",
        "\n",
        "student_number = np.array([\"89\",\"56\",\"87\",\"98\"])\n",
        "print(student_number)\n",
        "print(f\"the type: {student_number.dtype}\")\n",
        "type_convertion = student_number.astype(int)\n",
        "print(type_convertion)\n",
        "print(f\"convert the type: {type_convertion.dtype}\")"
      ],
      "metadata": {
        "colab": {
          "base_uri": "https://localhost:8080/"
        },
        "id": "nXNR-7Jnw-Zl",
        "outputId": "2f511ef0-f7fb-41c4-e137-2fdc98993e5b"
      },
      "execution_count": null,
      "outputs": [
        {
          "output_type": "stream",
          "name": "stdout",
          "text": [
            "['89' '56' '87' '98']\n",
            "the type: <U2\n",
            "[89 56 87 98]\n",
            "convert the type: int64\n"
          ]
        }
      ]
    },
    {
      "cell_type": "markdown",
      "source": [
        "That means string in NumPy’s format.\n",
        "Why <U2 means string?\n",
        "\n",
        "U → Unicode string type\n",
        "\n",
        "2 → Max length of each string (here each element has 2 characters, e.g., \"89\")\n",
        "\n",
        "< → Byte order (not very important for strings)"
      ],
      "metadata": {
        "id": "pkfkPMjc0BxN"
      }
    },
    {
      "cell_type": "markdown",
      "source": [
        "# **Mathmetical operation on NumPy**"
      ],
      "metadata": {
        "id": "nsZ5ZWmQ1ASF"
      }
    },
    {
      "cell_type": "code",
      "source": [
        "import numpy as np\n",
        "\n",
        "#  addtions\n",
        "arr = np.array([22,33,44,55])\n",
        "print(arr)\n",
        "\n",
        "print(arr+5)\n",
        "print(arr-5)"
      ],
      "metadata": {
        "colab": {
          "base_uri": "https://localhost:8080/"
        },
        "id": "qWM_M_P1zdWS",
        "outputId": "8a2dee51-97fd-4ea6-e7bb-8c20e717ec5f"
      },
      "execution_count": null,
      "outputs": [
        {
          "output_type": "stream",
          "name": "stdout",
          "text": [
            "[22 33 44 55]\n",
            "[27 38 49 60]\n",
            "[17 28 39 50]\n"
          ]
        }
      ]
    },
    {
      "cell_type": "markdown",
      "source": [
        "# **Aggregration functions**\n",
        "Average, Sum, Mean, Min, max, std->stranderd deviation, ver-> veriance"
      ],
      "metadata": {
        "id": "SPknJGwc1Wp2"
      }
    },
    {
      "cell_type": "code",
      "source": [
        "arr = np.array([10,20,30,40,50,60,70,80])\n",
        "\n",
        "print(f\"Sum: {np.sum(arr)}\")\n",
        "print(f\"Average: {np.mean(arr)}\")\n",
        "print(f\"minimun: {np.min(arr)}\")\n",
        "print(f\"Maximun: {np.max(arr)}\")\n",
        "print(f\"Stardant deviation: {np.std(arr)}\")\n",
        "print(f\"variance: {np.var(arr)}\")\n"
      ],
      "metadata": {
        "colab": {
          "base_uri": "https://localhost:8080/"
        },
        "id": "YdTdZiTW1WWO",
        "outputId": "37681f23-9f8f-4820-a63b-914ac077b783"
      },
      "execution_count": null,
      "outputs": [
        {
          "output_type": "stream",
          "name": "stdout",
          "text": [
            "Sum: 360\n",
            "Average: 45.0\n",
            "minimun: 10\n",
            "Maximun: 80\n",
            "Stardant deviation: 22.9128784747792\n",
            "variance: 525.0\n"
          ]
        }
      ]
    },
    {
      "cell_type": "markdown",
      "source": [
        "# **Indexing and Slicing**\n",
        "Indexing -> select a single element. or find a element from anywhere.\n",
        "\n",
        "slicing -> a portion or a grop can be select but not at rendomly.\n",
        "\n",
        "fency indexing-> select muntiple element\n",
        "\n",
        "boolean indexing -> certain condition and then filter those element."
      ],
      "metadata": {
        "id": "ynCKmc5d2x1J"
      }
    },
    {
      "cell_type": "code",
      "source": [
        "import numpy as np\n",
        "\n",
        "arr = np.array([[10,20,30,40], [50,60,70,80],[11,22,33,44]])\n",
        "print(arr)\n",
        "print(\"\\n\")\n",
        "arr2 = np.array([10,20,30,40,50,60,70,80,90])\n",
        "print(arr2)\n",
        "print(\"\\n\")\n",
        "\n",
        "print(f\"indexing of 1D: {arr2[2]}\")\n",
        "print(f\"indexing of 1D: {arr2[-2]}\")\n",
        "print(f\"indexing of 2D: {arr[1,1]}\")"
      ],
      "metadata": {
        "colab": {
          "base_uri": "https://localhost:8080/"
        },
        "id": "6Wf-oQPI3f9-",
        "outputId": "9a11bd39-1a90-4cc1-d00d-a9aabd29a343"
      },
      "execution_count": null,
      "outputs": [
        {
          "output_type": "stream",
          "name": "stdout",
          "text": [
            "[[10 20 30 40]\n",
            " [50 60 70 80]\n",
            " [11 22 33 44]]\n",
            "\n",
            "\n",
            "[10 20 30 40 50 60 70 80 90]\n",
            "\n",
            "\n",
            "indexing of 1D: 30\n",
            "indexing of 1D: 80\n",
            "indexing of 2D: 60\n"
          ]
        }
      ]
    },
    {
      "cell_type": "code",
      "source": [
        "#  slicing\n",
        "# array[start:stop:end]\n",
        "#\n",
        "print(arr2)\n",
        "print(arr2[1:5])\n",
        "print(arr2[::2])\n",
        "print(arr2[:5:2])"
      ],
      "metadata": {
        "colab": {
          "base_uri": "https://localhost:8080/"
        },
        "id": "IBZB22cz4wiv",
        "outputId": "e9b17f4c-bc17-44b1-b13b-6c553f0d5e4e"
      },
      "execution_count": null,
      "outputs": [
        {
          "output_type": "stream",
          "name": "stdout",
          "text": [
            "[10 20 30 40 50 60 70 80 90]\n",
            "[20 30 40 50]\n",
            "[10 30 50 70 90]\n",
            "[10 30 50]\n"
          ]
        }
      ]
    },
    {
      "cell_type": "code",
      "source": [
        "#  fency function -> selecting multiple element select in one time\n",
        "# make copy array\n",
        "print(arr2[[0,1,4]])"
      ],
      "metadata": {
        "colab": {
          "base_uri": "https://localhost:8080/"
        },
        "id": "gTeDz5gj6SzJ",
        "outputId": "8d37984d-882e-4a68-91f0-58fd34b8798e"
      },
      "execution_count": null,
      "outputs": [
        {
          "output_type": "stream",
          "name": "stdout",
          "text": [
            "[10 20 50]\n"
          ]
        }
      ]
    },
    {
      "cell_type": "code",
      "source": [
        "# Boolean Masking\n",
        "\n",
        "print(arr2[arr2 > 30])"
      ],
      "metadata": {
        "colab": {
          "base_uri": "https://localhost:8080/"
        },
        "id": "mNd2HzoQ7P1H",
        "outputId": "0d636c99-58f2-4675-a824-15bc039b7bda"
      },
      "execution_count": null,
      "outputs": [
        {
          "output_type": "stream",
          "name": "stdout",
          "text": [
            "[40 50 60 70 80 90]\n"
          ]
        }
      ]
    },
    {
      "cell_type": "markdown",
      "source": [
        "# **Reshaping and Manipulating Arrays**\n",
        "\n",
        "1. 1D array to 2D array --> use array.reshape(rows, columns)\n",
        "if dimantion match then only can change shape\n",
        "\n",
        "2. it can't give copy"
      ],
      "metadata": {
        "id": "eZ9Du01i7dRy"
      }
    },
    {
      "cell_type": "code",
      "source": [
        "print(arr2)\n",
        "print(arr2.shape)\n",
        "print(arr2.ndim)\n",
        "\n",
        "reshape_array = arr2.reshape(3,3)\n",
        "\n",
        "print(reshape_array)\n",
        "print(reshape_array.shape)\n",
        "print(reshape_array.ndim)"
      ],
      "metadata": {
        "colab": {
          "base_uri": "https://localhost:8080/"
        },
        "id": "yinvz0ml7k3t",
        "outputId": "e176dbce-cfa0-4050-c896-aa2553bb5a77"
      },
      "execution_count": null,
      "outputs": [
        {
          "output_type": "stream",
          "name": "stdout",
          "text": [
            "[10 20 30 40 50 60 70 80 90]\n",
            "(9,)\n",
            "1\n",
            "[[10 20 30]\n",
            " [40 50 60]\n",
            " [70 80 90]]\n",
            "(3, 3)\n",
            "2\n"
          ]
        }
      ]
    },
    {
      "cell_type": "markdown",
      "source": [
        "# **Flatting Arrays**\n",
        "1. flatten() -- return a copy\n",
        "2. revel() -- return a view, origial array effect\n",
        "\n",
        "to convert multi dimantional array into 1D array"
      ],
      "metadata": {
        "id": "fE-r7lOX21Q4"
      }
    },
    {
      "cell_type": "code",
      "source": [
        "print(reshape_array.ravel())\n",
        "print(reshape_array.flatten())"
      ],
      "metadata": {
        "colab": {
          "base_uri": "https://localhost:8080/"
        },
        "id": "hqRQT4dY79fU",
        "outputId": "1b69ca94-62b9-4a4b-ddc4-53967c32569b"
      },
      "execution_count": null,
      "outputs": [
        {
          "output_type": "stream",
          "name": "stdout",
          "text": [
            "[10 20 30 40 50 60 70 80 90]\n",
            "[10 20 30 40 50 60 70 80 90]\n"
          ]
        }
      ]
    },
    {
      "cell_type": "markdown",
      "source": [
        "1. Add element\n",
        "2. Stack\n",
        "3. Remove\n",
        "4. split\n",
        "5. insert -- > np.insert(array, index, value, asis=None)"
      ],
      "metadata": {
        "id": "yYKyy8sgIyJw"
      }
    },
    {
      "cell_type": "code",
      "source": [
        "arr = np.array([10,20,30,40,50])\n",
        "print(arr)"
      ],
      "metadata": {
        "colab": {
          "base_uri": "https://localhost:8080/"
        },
        "id": "x-MwvRuPInOM",
        "outputId": "b8e224db-316c-47bb-df8d-d37ccd8a2d6c"
      },
      "execution_count": null,
      "outputs": [
        {
          "output_type": "stream",
          "name": "stdout",
          "text": [
            "[10 20 30 40 50]\n"
          ]
        }
      ]
    },
    {
      "cell_type": "code",
      "source": [
        "new_arr = np.insert(arr, 2, 100, axis=None)\n",
        "print(new_arr)"
      ],
      "metadata": {
        "colab": {
          "base_uri": "https://localhost:8080/"
        },
        "id": "Bbm9GR5cJoIA",
        "outputId": "d94c9ea9-8393-4028-8943-e847bdc8e8f8"
      },
      "execution_count": null,
      "outputs": [
        {
          "output_type": "stream",
          "name": "stdout",
          "text": [
            "[ 10  20 100  30  40  50]\n"
          ]
        }
      ]
    },
    {
      "cell_type": "code",
      "source": [
        "print(arr_2d)"
      ],
      "metadata": {
        "colab": {
          "base_uri": "https://localhost:8080/"
        },
        "id": "Xudex4uEJ14K",
        "outputId": "6af63d72-636e-466e-c1dc-b98bf76a61cf"
      },
      "execution_count": null,
      "outputs": [
        {
          "output_type": "stream",
          "name": "stdout",
          "text": [
            "[[10 20 30]\n",
            " [40 60 70]\n",
            " [80 70 90]]\n"
          ]
        }
      ]
    },
    {
      "cell_type": "code",
      "source": [
        "new_arr = np.insert(arr_2d, 0, [100,200,300], axis=1)\n",
        "print(new_arr)"
      ],
      "metadata": {
        "colab": {
          "base_uri": "https://localhost:8080/"
        },
        "id": "oMMoZ_VDJ8Lv",
        "outputId": "0094a148-60ec-4090-d994-2753ddced49a"
      },
      "execution_count": null,
      "outputs": [
        {
          "output_type": "stream",
          "name": "stdout",
          "text": [
            "[[100  10  20  30]\n",
            " [200  40  60  70]\n",
            " [300  80  70  90]]\n"
          ]
        }
      ]
    },
    {
      "cell_type": "code",
      "source": [
        "# append\n",
        "print(arr)\n",
        "\n",
        "print(np.append(arr,[55, 99]))"
      ],
      "metadata": {
        "colab": {
          "base_uri": "https://localhost:8080/"
        },
        "id": "sGaqUAvyKUGk",
        "outputId": "a39e3240-2e7c-4018-a5ba-588636544ad0"
      },
      "execution_count": null,
      "outputs": [
        {
          "output_type": "stream",
          "name": "stdout",
          "text": [
            "[10 20 30 40 50]\n",
            "[10 20 30 40 50 55 99]\n"
          ]
        }
      ]
    },
    {
      "cell_type": "markdown",
      "source": [
        "# **NumPy concatenate**"
      ],
      "metadata": {
        "id": "dtiYa29zL3Nv"
      }
    },
    {
      "cell_type": "code",
      "source": [
        "# np.concatenate((array1, array2), asis=0)\n",
        "# asis 0 = vertical staking\n",
        "# asis 0 = hirizoontal staking"
      ],
      "metadata": {
        "id": "4nSVa0ExL8Kx"
      },
      "execution_count": null,
      "outputs": []
    },
    {
      "cell_type": "code",
      "source": [
        "arr12 = np.array([11,22,33,44])\n",
        "arr13 = np.array([55,66,44,88])\n",
        "\n",
        "new_arr = np.concatenate((arr12, arr13), axis=0)\n",
        "print(new_arr)"
      ],
      "metadata": {
        "colab": {
          "base_uri": "https://localhost:8080/"
        },
        "id": "ay50plXGMQeA",
        "outputId": "4af831ea-06a0-4955-be5e-ee83d8935e88"
      },
      "execution_count": null,
      "outputs": [
        {
          "output_type": "stream",
          "name": "stdout",
          "text": [
            "[11 22 33 44 55 66 44 88]\n"
          ]
        }
      ]
    },
    {
      "cell_type": "markdown",
      "source": [
        "# **Delete function**"
      ],
      "metadata": {
        "id": "AXy_yfBtM3Xn"
      }
    },
    {
      "cell_type": "code",
      "source": [
        "# np.delete\n",
        "arr = np.array([11,22,33,44])\n",
        "print(np.delete(arr,1,axis=None))"
      ],
      "metadata": {
        "colab": {
          "base_uri": "https://localhost:8080/"
        },
        "id": "r27LqiL-M6Oc",
        "outputId": "da31e177-dddf-4f18-f3ba-8a432dacdc64"
      },
      "execution_count": null,
      "outputs": [
        {
          "output_type": "stream",
          "name": "stdout",
          "text": [
            "[11 33 44]\n"
          ]
        }
      ]
    },
    {
      "cell_type": "code",
      "source": [
        "arr = np.array([[10, 20 ,30],\n",
        " [40, 60, 70],\n",
        " [80 ,70 ,90]])\n",
        "\n",
        "print(arr)"
      ],
      "metadata": {
        "colab": {
          "base_uri": "https://localhost:8080/"
        },
        "id": "b-T0HMnANQPP",
        "outputId": "5443fdd4-dea2-4cf3-c8e8-20384d68aaf7"
      },
      "execution_count": null,
      "outputs": [
        {
          "output_type": "stream",
          "name": "stdout",
          "text": [
            "[[10 20 30]\n",
            " [40 60 70]\n",
            " [80 70 90]]\n"
          ]
        }
      ]
    },
    {
      "cell_type": "code",
      "source": [
        "print(np.delete(arr,1, axis=1 ))"
      ],
      "metadata": {
        "colab": {
          "base_uri": "https://localhost:8080/"
        },
        "id": "WBUVHbOJNgx6",
        "outputId": "a31d916f-6fb9-4277-8645-98a9edf011d9"
      },
      "execution_count": null,
      "outputs": [
        {
          "output_type": "stream",
          "name": "stdout",
          "text": [
            "[[10 30]\n",
            " [40 70]\n",
            " [80 90]]\n"
          ]
        }
      ]
    },
    {
      "cell_type": "markdown",
      "source": [
        "# **Row and Colums Wise marge**\n",
        "Vstack\n",
        "hStack"
      ],
      "metadata": {
        "id": "rQVKJN93O8ii"
      }
    },
    {
      "cell_type": "markdown",
      "source": [
        "# **Split**"
      ],
      "metadata": {
        "id": "EewYbtKqQQ2Z"
      }
    },
    {
      "cell_type": "code",
      "source": [
        "# np.split()\n",
        "# equal\n",
        "# np.hsplit()\n",
        "# np.vsplit()\n",
        "\n",
        "arr = np.array([10,20,30,40,50,60])\n",
        "\n",
        "print(np.split(arr, 2))"
      ],
      "metadata": {
        "colab": {
          "base_uri": "https://localhost:8080/"
        },
        "id": "r6NusWHtPC1Z",
        "outputId": "8a722395-3388-4a1d-b04b-9602d55ccb36"
      },
      "execution_count": null,
      "outputs": [
        {
          "output_type": "stream",
          "name": "stdout",
          "text": [
            "[array([10, 20, 30]), array([40, 50, 60])]\n"
          ]
        }
      ]
    },
    {
      "cell_type": "markdown",
      "source": [
        "# **BroadCusting & Vectorization**\n",
        "broadcusting --> ![image.png](data:image/png;base64,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)\n",
        "\n",
        "\n",
        "**Broadcusting**\n",
        "\n",
        "1. matching dimention\n",
        "2. expending single elements\n",
        "3. incompatible shape"
      ],
      "metadata": {
        "id": "RjIeP8g4Qsp8"
      }
    },
    {
      "cell_type": "code",
      "source": [
        "prices = [100,200,300,400]\n",
        "\n",
        "discount = 10\n",
        "\n",
        "final_price = []\n",
        "\n",
        "for price in prices:\n",
        "  final_prices = int(price - (price*(discount/100)))\n",
        "  final_price.append(final_prices)\n",
        "\n",
        "print(final_price)\n"
      ],
      "metadata": {
        "colab": {
          "base_uri": "https://localhost:8080/"
        },
        "id": "C_fgAG61RuaQ",
        "outputId": "2199f4a7-9314-49c4-b341-bb10d48c0069"
      },
      "execution_count": null,
      "outputs": [
        {
          "output_type": "stream",
          "name": "stdout",
          "text": [
            "[90, 180, 270, 360]\n"
          ]
        }
      ]
    },
    {
      "cell_type": "code",
      "source": [
        "price = np.array([100,200,300,400])\n",
        "print(price)"
      ],
      "metadata": {
        "colab": {
          "base_uri": "https://localhost:8080/"
        },
        "id": "DLHb8CqDQ02t",
        "outputId": "377a1eb2-9adc-4a75-f551-04368788be69"
      },
      "execution_count": null,
      "outputs": [
        {
          "output_type": "stream",
          "name": "stdout",
          "text": [
            "[100 200 300 400]\n"
          ]
        }
      ]
    },
    {
      "cell_type": "code",
      "source": [
        "discount = 10\n",
        "final_price = price - (price*discount/100)\n",
        "print(final_price)"
      ],
      "metadata": {
        "colab": {
          "base_uri": "https://localhost:8080/"
        },
        "id": "1Qmo-uiibanl",
        "outputId": "baa031c5-cb52-482f-88a2-f2c14e920715"
      },
      "execution_count": null,
      "outputs": [
        {
          "output_type": "stream",
          "name": "stdout",
          "text": [
            "[ 90. 180. 270. 360.]\n"
          ]
        }
      ]
    },
    {
      "cell_type": "code",
      "source": [
        "arr = np.array([100,200,300,400,500])\n",
        "result = arr+2\n",
        "print(f\"{ result}\")"
      ],
      "metadata": {
        "colab": {
          "base_uri": "https://localhost:8080/"
        },
        "id": "tl82DiW7cvhA",
        "outputId": "dc71541a-2ce4-460a-f3de-a716fbf9edfa"
      },
      "execution_count": null,
      "outputs": [
        {
          "output_type": "stream",
          "name": "stdout",
          "text": [
            "[102 202 302 402 502]\n"
          ]
        }
      ]
    },
    {
      "cell_type": "code",
      "source": [
        "arr = np.array([[11,22,33,44],[77,88,99,66]])\n",
        "print(arr)\n",
        "arr2=np.array([10,20,30,40])\n",
        "\n",
        "result = arr+arr2\n",
        "print(result)"
      ],
      "metadata": {
        "colab": {
          "base_uri": "https://localhost:8080/"
        },
        "id": "IzDw6WerdedJ",
        "outputId": "8b467982-c3bd-4030-8ddd-dbdd5bd9546b"
      },
      "execution_count": null,
      "outputs": [
        {
          "output_type": "stream",
          "name": "stdout",
          "text": [
            "[[11 22 33 44]\n",
            " [77 88 99 66]]\n",
            "[[ 21  42  63  84]\n",
            " [ 87 108 129 106]]\n"
          ]
        }
      ]
    },
    {
      "cell_type": "code",
      "source": [
        "arr = np.array([[11,22,33,44],[77,88,99,66]])\n",
        "print(arr)\n",
        "arr2=np.array([10,20])\n",
        "\n",
        "result = arr+arr2\n",
        "print(result)"
      ],
      "metadata": {
        "colab": {
          "base_uri": "https://localhost:8080/",
          "height": 228
        },
        "id": "9IL3NQLAePSL",
        "outputId": "f138b988-aef5-4faf-d61e-d1f7f24c60f2"
      },
      "execution_count": null,
      "outputs": [
        {
          "output_type": "stream",
          "name": "stdout",
          "text": [
            "[[11 22 33 44]\n",
            " [77 88 99 66]]\n"
          ]
        },
        {
          "output_type": "error",
          "ename": "ValueError",
          "evalue": "operands could not be broadcast together with shapes (2,4) (2,) ",
          "traceback": [
            "\u001b[0;31m---------------------------------------------------------------------------\u001b[0m",
            "\u001b[0;31mValueError\u001b[0m                                Traceback (most recent call last)",
            "\u001b[0;32m/tmp/ipython-input-1841774892.py\u001b[0m in \u001b[0;36m<cell line: 0>\u001b[0;34m()\u001b[0m\n\u001b[1;32m      3\u001b[0m \u001b[0marr2\u001b[0m\u001b[0;34m=\u001b[0m\u001b[0mnp\u001b[0m\u001b[0;34m.\u001b[0m\u001b[0marray\u001b[0m\u001b[0;34m(\u001b[0m\u001b[0;34m[\u001b[0m\u001b[0;36m10\u001b[0m\u001b[0;34m,\u001b[0m\u001b[0;36m20\u001b[0m\u001b[0;34m]\u001b[0m\u001b[0;34m)\u001b[0m\u001b[0;34m\u001b[0m\u001b[0;34m\u001b[0m\u001b[0m\n\u001b[1;32m      4\u001b[0m \u001b[0;34m\u001b[0m\u001b[0m\n\u001b[0;32m----> 5\u001b[0;31m \u001b[0mresult\u001b[0m \u001b[0;34m=\u001b[0m \u001b[0marr\u001b[0m\u001b[0;34m+\u001b[0m\u001b[0marr2\u001b[0m\u001b[0;34m\u001b[0m\u001b[0;34m\u001b[0m\u001b[0m\n\u001b[0m\u001b[1;32m      6\u001b[0m \u001b[0mprint\u001b[0m\u001b[0;34m(\u001b[0m\u001b[0mresult\u001b[0m\u001b[0;34m)\u001b[0m\u001b[0;34m\u001b[0m\u001b[0;34m\u001b[0m\u001b[0m\n",
            "\u001b[0;31mValueError\u001b[0m: operands could not be broadcast together with shapes (2,4) (2,) "
          ]
        }
      ]
    },
    {
      "cell_type": "markdown",
      "source": [
        "# **Vectorization**"
      ],
      "metadata": {
        "id": "IzM8uAT0TbUj"
      }
    },
    {
      "cell_type": "code",
      "source": [
        "list1 = [1,2,3]\n",
        "list2 = [4,5,6]\n",
        "\n",
        "result = [x+y for x,y in zip(list1, list2)]\n",
        "print(result)"
      ],
      "metadata": {
        "colab": {
          "base_uri": "https://localhost:8080/"
        },
        "id": "9il0spPBb2ga",
        "outputId": "59facb1d-9861-4d61-bced-5703b7446110"
      },
      "execution_count": null,
      "outputs": [
        {
          "output_type": "stream",
          "name": "stdout",
          "text": [
            "[5, 7, 9]\n"
          ]
        }
      ]
    },
    {
      "cell_type": "code",
      "source": [
        "arr1 = np.array([10,20,30])\n",
        "arr2 = np.array([40,50,60])\n",
        "\n",
        "result = arr1+arr2\n",
        "\n",
        "print(result)"
      ],
      "metadata": {
        "colab": {
          "base_uri": "https://localhost:8080/"
        },
        "id": "wY79duX-ewVU",
        "outputId": "9db1d5e3-56a5-4664-8bf2-ad4799f9e387"
      },
      "execution_count": null,
      "outputs": [
        {
          "output_type": "stream",
          "name": "stdout",
          "text": [
            "[50 70 90]\n"
          ]
        }
      ]
    },
    {
      "cell_type": "markdown",
      "source": [
        "# **Missing value handling**\n",
        "1. np.isnan --> detact missing values\n",
        "2. np.nan_to_mun()\n",
        "3. np.inf()"
      ],
      "metadata": {
        "id": "0IpFKO6viAyA"
      }
    },
    {
      "cell_type": "code",
      "source": [],
      "metadata": {
        "id": "EqAIdMJPiFKa"
      },
      "execution_count": null,
      "outputs": []
    }
  ]
}